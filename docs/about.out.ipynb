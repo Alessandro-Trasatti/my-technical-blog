{
 "cells": [
  {
   "cell_type": "markdown",
   "metadata": {},
   "source": [
    "# About\n",
    "\n",
    "About this blog"
   ],
   "id": "a418edc8-dd1f-4124-8270-58e03a16237b"
  },
  {
   "cell_type": "raw",
   "metadata": {
    "raw_mimetype": "text/html"
   },
   "source": [
    "<!-- -->"
   ],
   "id": "2d6b7c6b-54bf-4d1c-8d70-fa211f7cdeb0"
  },
  {
   "cell_type": "markdown",
   "metadata": {},
   "source": [
    "``` markdown\n",
    "---\n",
    "title: \"About\"\n",
    "image: profile.jpg\n",
    "about:\n",
    "  template: jolla\n",
    "  links:\n",
    "    - icon: twitter\n",
    "      text: Twitter\n",
    "      href: https://twitter.com\n",
    "    - icon: linkedin\n",
    "      text: LinkedIn\n",
    "      href: https://linkedin.com\n",
    "    - icon: github\n",
    "      text: Github\n",
    "      href: https://github.com\n",
    "\n",
    "---\n",
    "\n",
    "About this blog\n",
    "```"
   ],
   "id": "b2efd644-967b-4c05-882a-ca6f57079443"
  }
 ],
 "nbformat": 4,
 "nbformat_minor": 5,
 "metadata": {}
}
